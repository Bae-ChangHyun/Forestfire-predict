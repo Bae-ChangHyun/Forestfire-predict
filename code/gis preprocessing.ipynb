{
 "cells": [
  {
   "attachments": {},
   "cell_type": "markdown",
   "id": "8869ec01",
   "metadata": {},
   "source": [
    "# Rasterize: Vector(shp) or Coordinates to Image(GeoTiff)"
   ]
  },
  {
   "attachments": {},
   "cell_type": "markdown",
   "id": "86a1088e",
   "metadata": {},
   "source": [
    "## General Import"
   ]
  },
  {
   "cell_type": "code",
   "execution_count": 2,
   "id": "2a655c0b",
   "metadata": {
    "ExecuteTime": {
     "end_time": "2023-05-04T16:26:29.910642Z",
     "start_time": "2023-05-04T16:26:28.677475Z"
    }
   },
   "outputs": [],
   "source": [
    "from tqdm.auto import tqdm\n",
    "from osgeo import gdal, ogr\n",
    "import geopandas as gpd\n",
    "import pandas as pd\n",
    "import numpy as np\n",
    "import seaborn as sns\n",
    "import matplotlib.pyplot as plt\n",
    "from pyproj import Proj, Transformer\n",
    "import rasterio\n",
    "from rasterio.mask import mask\n",
    "from shapely.geometry import box\n",
    "\n",
    "import os\n",
    "\n",
    "def mkdir(path):\n",
    "    os.makedirs(path)\n",
    "def is_exist_dir(path):\n",
    "    if not os.path.exists(path):\n",
    "        mkdir(path)"
   ]
  },
  {
   "attachments": {},
   "cell_type": "markdown",
   "id": "6678cab5",
   "metadata": {},
   "source": [
    "# [Convert Function]"
   ]
  },
  {
   "attachments": {},
   "cell_type": "markdown",
   "id": "7ee85227",
   "metadata": {},
   "source": [
    "### Vector to Raster, SHP to TIFF\n",
    "- Input: SHP 파일\n",
    "- Output: Tiff 파일\n",
    "- Reference: Tiff 파일\n",
    "\n",
    "- Reference의 정보(좌표계, 해상도) + Input 데이터의 Geometry정보를 이용해 새로운 Tiff 생성\n",
    "    - "
   ]
  },
  {
   "cell_type": "code",
   "execution_count": null,
   "id": "5755c15f",
   "metadata": {},
   "outputs": [],
   "source": [
    "from osgeo import ogr, gdal\n",
    "import subprocess\n",
    "import shutil\n",
    "\n",
    "def rasterize_vector(InputVector, OutputImage, RefImage, value):\n",
    "    gdalformat = 'GTiff'\n",
    "    datatype = gdal.GDT_Float32\n",
    "    burnVal = 1\n",
    "\n",
    "    ##########################################################\n",
    "    Image = gdal.Open(RefImage, gdal.GA_ReadOnly)\n",
    "    # Open Shapefile\n",
    "    Shapefile = ogr.Open(InputVector)\n",
    "    Shapefile_layer = Shapefile.GetLayer()\n",
    "    \n",
    "    Feature = Shapefile_layer.GetNextFeature()\n",
    "    Geometry = Feature.GetGeometryRef()\n",
    "    Value = Feature.GetField(value)\n",
    "\n",
    "    # Rasterise\n",
    "    print(\"Rasterising shapefile...\")\n",
    "    open(OutputImage,'w+').close()  # create outputfile if not exists\n",
    "    Output = gdal.GetDriverByName(gdalformat).Create(OutputImage, Image.RasterXSize, Image.RasterYSize, 1, datatype, options=['COMPRESS=DEFLATE'])\n",
    "    Output.SetProjection(Image.GetProjectionRef())\n",
    "    Output.SetGeoTransform(Image.GetGeoTransform()) \n",
    "\n",
    "    # Write data to band 1\n",
    "    Band = Output.GetRasterBand(1)\n",
    "    Band.SetNoDataValue(-999)  # InputVector에서 지정되지 않은 영역에 대해 채울 값 지정\n",
    "    gdal.RasterizeLayer(Output, [1], Shapefile_layer, options = [\"ATTRIBUTE=\" + value])\n",
    "\n",
    "    # Close datasets\n",
    "    Band = None\n",
    "    Output = None\n",
    "    Image = None\n",
    "    Shapefile = None\n",
    "\n",
    "    # Build image overviews\n",
    "    subprocess.call(\"gdaladdo --config COMPRESS_OVERVIEW DEFLATE \"+OutputImage+\" 2 4 8 16 32 64\", shell=True)\n",
    "    print(\"Done.\")"
   ]
  },
  {
   "cell_type": "code",
   "execution_count": 47,
   "id": "20809b5b",
   "metadata": {
    "ExecuteTime": {
     "end_time": "2023-04-26T09:16:07.276822Z",
     "start_time": "2023-04-26T09:15:50.062501Z"
    }
   },
   "outputs": [],
   "source": [
    "from pyidw import idw # 보간법 실행\n",
    "\n",
    "idw.idw_interpolation(\n",
    "    input_point_shapefile=f'220304_renew.shp', # 보간하고자 하는 shp 파일 \n",
    "    extent_shapefile=\"boundary/boundary.shp\", # 경계 shp 파일(현재 강원도)\n",
    "    column_name='z', # 보간하고자 하는 feature 이름. \n",
    "    power=2, # 거리 가중치 계수 \n",
    "    search_radious=8, # 검색하고자 하는 범위 \n",
    "    output_resolution=400, # 결과물 해상도 \n",
    ")"
   ]
  },
  {
   "attachments": {},
   "cell_type": "markdown",
   "id": "3cd52a80",
   "metadata": {},
   "source": [
    "### Raster 간 해상도 통일 & 해상도 통일 후 테두리 정리"
   ]
  },
  {
   "cell_type": "code",
   "execution_count": 6,
   "id": "deef539a",
   "metadata": {
    "ExecuteTime": {
     "end_time": "2023-05-29T08:45:13.544950Z",
     "start_time": "2023-05-29T08:45:13.511551Z"
    }
   },
   "outputs": [],
   "source": [
    "from osgeo import gdal, ogr\n",
    "import subprocess\n",
    "\n",
    "\n",
    "def match_resolution(InputImage, OutputImage, RefImage):\n",
    "    Image = gdal.Open(RefImage, gdal.GA_ReadOnly)\n",
    "    output_width = Image.RasterXSize\n",
    "    output_height = Image.RasterYSize\n",
    "\n",
    "    # Construct the command string\n",
    "    open(OutputImage, 'w')\n",
    "    command = ['gdal_translate', '-outsize', str(output_width), str(output_height), '-r', 'bilinear', InputImage, OutputImage]\n",
    "\n",
    "    # Run the command\n",
    "    subprocess.run(command)\n",
    "\n",
    "    # Set geotransform and projection information\n",
    "    Output = gdal.Open(OutputImage)\n",
    "    Output.SetGeoTransform(Image.GetGeoTransform())\n",
    "    Output.SetProjection(Image.GetProjection())\n",
    "\n",
    "    Image = None\n",
    "    Output = None\n",
    "        \n",
    "def clear_boundary_using_arr(InputImage, OutputImage, RefImage):\n",
    "    InputArr = image_to_array(InputImage)\n",
    "    Image = gdal.Open(RefImage, gdal.GA_Update)\n",
    "    ImageArr = Image.ReadAsArray()\n",
    "    \n",
    "    out_boundary_lat = []\n",
    "    out_boundary_lon = []\n",
    "    out_value = ImageArr[0, 0]\n",
    "    for i in range(Image.RasterYSize):\n",
    "        for j in range(Image.RasterXSize):\n",
    "            if ImageArr[i, j] == out_value:\n",
    "                out_boundary_lat.append(i)\n",
    "                out_boundary_lon.append(j)\n",
    "    InputArr[out_boundary_lat, out_boundary_lon] = InputArr[0, 0]\n",
    "    array_to_image(InputArr, OutputImage, RefImage)\n",
    "    \n"
   ]
  },
  {
   "cell_type": "code",
   "execution_count": 17,
   "id": "6050f267",
   "metadata": {},
   "outputs": [],
   "source": [
    "InputImage='../data/geo_data/raw/population_density_gw.tif'\n",
    "OutputImage='../data/geo_data/raw/population_density_gw2.tif'\n",
    "RefImage='../data/geo_data/raw/Slope_gw.tif'\n",
    "match_resolution(InputImage, OutputImage, RefImage)"
   ]
  },
  {
   "cell_type": "code",
   "execution_count": null,
   "id": "16fad5df",
   "metadata": {},
   "outputs": [],
   "source": [
    "InputImage='Height_Final.tif'\n",
    "OutputImage='height_gw.tif'\n",
    "RefImage='boundary/boundary_blank_resized.tif'\n",
    "clear_boundary_using_arr(InputImage, OutputImage, RefImage)"
   ]
  },
  {
   "attachments": {},
   "cell_type": "markdown",
   "id": "6668bca5",
   "metadata": {},
   "source": [
    "### Crop Image"
   ]
  },
  {
   "cell_type": "code",
   "execution_count": 5,
   "id": "ab2a7344",
   "metadata": {
    "ExecuteTime": {
     "end_time": "2023-05-04T16:26:51.387952Z",
     "start_time": "2023-05-04T16:26:51.270151Z"
    }
   },
   "outputs": [],
   "source": [
    "\n",
    "\n",
    "def crop_image_using_coordinates(InputImage, OutputImage, RefImage, latitude, longitude, InputCrs, OutputCrs, CropSize):\n",
    "    \"\"\"extract tiff height and width\"\"\"\n",
    "    Image = gdal.Open(RefImage, gdal.GA_ReadOnly)\n",
    "    width = Image.RasterXSize\n",
    "    height = Image.RasterYSize\n",
    "    Image = None\n",
    "\n",
    "    \"\"\"extract vertex coordinates\"\"\"\n",
    "    rds = rasterio.open(RefImage)\n",
    "    rds.bounds\n",
    "    left = rds.bounds[0]\n",
    "    right = rds.bounds[2]\n",
    "    top = rds.bounds[3]\n",
    "    bottom = rds.bounds[1]\n",
    "\n",
    "    \"\"\"Convert coordinates system\"\"\"\n",
    "    resolution_x = (right - left) / width\n",
    "    resolution_y = (top - bottom) / height\n",
    "\n",
    "    InputCrs = _STATIC_formatting_crs(InputCrs)\n",
    "    OutputCrs = _STATIC_formatting_crs(OutputCrs)\n",
    "    transformer = Transformer.from_crs(InputCrs, OutputCrs)\n",
    "    longitude, latitude = transformer.transform(longitude, latitude)\n",
    "    \n",
    "    left_box = latitude - (resolution_x * CropSize)\n",
    "    top_box = longitude + (resolution_y * CropSize)\n",
    "    right_box = latitude + (resolution_x * CropSize)\n",
    "    bottom_box = longitude - (resolution_y * CropSize)\n",
    "    window = (left_box, top_box, right_box, bottom_box)\n",
    "\n",
    "    gdal.Translate(OutputImage, InputImage, projWin = window)\n",
    "    \n",
    "    \n",
    "InputImage = 'forestmap.tif'\n",
    "OutputImage = 'test.tif'\n",
    "RefImage = 'gw_boundary.tif'\n",
    "latitude = 128.1385\n",
    "longitude = 37.2598\n",
    "InputCrs = '4326'\n",
    "OutputCrs = '4326'\n",
    "CropSize = 10\n",
    "crop_image_using_coordinates(InputImage, OutputImage, RefImage, latitude, longitude, InputCrs, OutputCrs, CropSize)"
   ]
  },
  {
   "attachments": {},
   "cell_type": "markdown",
   "id": "3829ca62",
   "metadata": {},
   "source": [
    "### raster to np.array & np.array to raster"
   ]
  },
  {
   "cell_type": "code",
   "execution_count": 5,
   "id": "d6aa29f1",
   "metadata": {
    "ExecuteTime": {
     "end_time": "2023-05-29T08:45:42.903303Z",
     "start_time": "2023-05-29T08:45:42.897772Z"
    }
   },
   "outputs": [],
   "source": [
    "def image_to_array(InputImage):\n",
    "    Image = gdal.Open(InputImage, gdal.GA_Update)\n",
    "    array = Image.ReadAsArray()\n",
    "    print(array.shape)\n",
    "    return array\n",
    "\n",
    "def array_to_image(InputArr, OutputImage, RefImage):\n",
    "    Image = gdal.Open(RefImage, gdal.GA_Update)\n",
    "    ImageArr = Image.ReadAsArray()\n",
    "    \n",
    "    open(OutputImage, 'w')\n",
    "    Output = gdal.GetDriverByName('GTiff').Create(OutputImage, ImageArr.shape[1], ImageArr.shape[0], 1, gdal.GDT_Float32)\n",
    "    #writting output raster\n",
    "    Output.GetRasterBand(1).WriteArray(InputArr)\n",
    "    Output.SetProjection(Image.GetProjection())\n",
    "    Output.SetGeoTransform(Image.GetGeoTransform())\n",
    "\n",
    "    Image = None\n",
    "    Output = None\n",
    "    \n",
    "InputArr=np.load('array.npy')\n",
    "OutputImage='result_1.tif'\n",
    "RefImage='boundary_blank_resized.tif'\n",
    "array_to_image(InputArr, OutputImage, RefImage)\n",
    "\n",
    "InputImage = 'data/reference/gw_boundary.tif'\n",
    "arr = image_to_array(InputImage)"
   ]
  },
  {
   "attachments": {},
   "cell_type": "markdown",
   "id": "61079b0c",
   "metadata": {},
   "source": [
    "## crop gangwon boundary "
   ]
  },
  {
   "cell_type": "code",
   "execution_count": 15,
   "id": "0b794d98",
   "metadata": {},
   "outputs": [
    {
     "name": "stdout",
     "output_type": "stream",
     "text": [
      "완료\n"
     ]
    }
   ],
   "source": [
    "shapefile = gpd.read_file(\"../data/gw_boundary/boundary.shp\")\n",
    "\n",
    "path = '../data/geo_data/raw/origin/Landuse.tif'\n",
    "\n",
    "# Read the raster dataset\n",
    "with rasterio.open(path) as src:\n",
    "    if shapefile.crs != src.crs:\n",
    "        shapefile = shapefile.to_crs(src.crs)\n",
    "\n",
    "    raster_bounds = box(*src.bounds)\n",
    "    shapefile = shapefile[shapefile.geometry.intersects(raster_bounds)]\n",
    "    clipped_raster, transform = mask(src, shapefile.geometry, crop=True)\n",
    "\n",
    "    with rasterio.open(\n",
    "        \"../data/geo_data/raw/Landuse_gw.tif\",\n",
    "        \"w\",\n",
    "        driver=\"GTiff\",\n",
    "        height=clipped_raster.shape[1],\n",
    "        width=clipped_raster.shape[2],\n",
    "        count=clipped_raster.shape[0],\n",
    "        dtype=clipped_raster.dtype,\n",
    "        crs=src.crs,\n",
    "        transform=transform,\n",
    "    ) as dst:\n",
    "        # Write the clipped subset to the output file\n",
    "        dst.write(clipped_raster, indexes=list(range(1, clipped_raster.shape[0] + 1)))\n",
    "\n",
    "print(\"완료\")"
   ]
  },
  {
   "cell_type": "code",
   "execution_count": null,
   "id": "3e58285e",
   "metadata": {},
   "outputs": [],
   "source": []
  }
 ],
 "metadata": {
  "kernelspec": {
   "display_name": "forest_fire",
   "language": "python",
   "name": "forest_fire"
  },
  "language_info": {
   "codemirror_mode": {
    "name": "ipython",
    "version": 3
   },
   "file_extension": ".py",
   "mimetype": "text/x-python",
   "name": "python",
   "nbconvert_exporter": "python",
   "pygments_lexer": "ipython3",
   "version": "3.8.0"
  },
  "toc": {
   "base_numbering": 1,
   "nav_menu": {},
   "number_sections": true,
   "sideBar": true,
   "skip_h1_title": false,
   "title_cell": "Table of Contents",
   "title_sidebar": "Contents",
   "toc_cell": false,
   "toc_position": {},
   "toc_section_display": true,
   "toc_window_display": false
  },
  "varInspector": {
   "cols": {
    "lenName": 16,
    "lenType": 16,
    "lenVar": 40
   },
   "kernels_config": {
    "python": {
     "delete_cmd_postfix": "",
     "delete_cmd_prefix": "del ",
     "library": "var_list.py",
     "varRefreshCmd": "print(var_dic_list())"
    },
    "r": {
     "delete_cmd_postfix": ") ",
     "delete_cmd_prefix": "rm(",
     "library": "var_list.r",
     "varRefreshCmd": "cat(var_dic_list()) "
    }
   },
   "types_to_exclude": [
    "module",
    "function",
    "builtin_function_or_method",
    "instance",
    "_Feature"
   ],
   "window_display": false
  }
 },
 "nbformat": 4,
 "nbformat_minor": 5
}
