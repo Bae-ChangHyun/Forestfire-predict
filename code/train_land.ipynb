{
 "cells": [
  {
   "cell_type": "code",
   "execution_count": 39,
   "metadata": {},
   "outputs": [],
   "source": [
    "from tqdm.auto import tqdm\n",
    "from osgeo import gdal, ogr\n",
    "import geopandas as gpd\n",
    "import pandas as pd\n",
    "import numpy as np\n",
    "import seaborn as sns\n",
    "import matplotlib.pyplot as plt\n",
    "import os\n",
    "from pyproj import Proj, Transformer\n",
    "import rasterio\n",
    "import natsort\n",
    "from glob import glob\n",
    "import cv2\n"
   ]
  },
  {
   "attachments": {},
   "cell_type": "markdown",
   "metadata": {},
   "source": [
    "# Data crop"
   ]
  },
  {
   "cell_type": "code",
   "execution_count": 6,
   "metadata": {},
   "outputs": [],
   "source": [
    "def crop_image_using_coordinates(InputImage, OutputImage, RefImage, latitude, longitude, CropSize):\\\n",
    "    \n",
    "    #참조 이미지의 boundary를 가져옴 \n",
    "    Image = gdal.Open(RefImage, gdal.GA_ReadOnly)\n",
    "    width = Image.RasterXSize\n",
    "    height = Image.RasterYSize\n",
    "    Image = None\n",
    "\n",
    "    \"\"\"extract vertex coordinates\"\"\"\n",
    "    rds = rasterio.open(RefImage)\n",
    "    rds.bounds\n",
    "    left = rds.bounds[0]\n",
    "    right = rds.bounds[2]\n",
    "    top = rds.bounds[3]\n",
    "    bottom = rds.bounds[1]\n",
    "\n",
    "    resolution_x = (right - left) / width\n",
    "    resolution_y = (top - bottom) / height\n",
    "\n",
    "    InputCrs = 'EPSG:4326'\n",
    "    OutputCrs ='EPSG:4326'\n",
    "    transformer = Transformer.from_crs(InputCrs, OutputCrs)\n",
    "    longitude, latitude = transformer.transform(longitude, latitude)\n",
    "    \n",
    "    left_box = latitude - (resolution_x * CropSize)\n",
    "    top_box = longitude + (resolution_y * CropSize)\n",
    "    right_box = latitude + (resolution_x * CropSize)\n",
    "    bottom_box = longitude - (resolution_y * CropSize)\n",
    "    window = (left_box, top_box, right_box, bottom_box)\n",
    "\n",
    "    gdal.Translate(OutputImage, InputImage, projWin = window)"
   ]
  },
  {
   "attachments": {},
   "cell_type": "markdown",
   "metadata": {},
   "source": [
    "# Train land data crop"
   ]
  },
  {
   "cell_type": "code",
   "execution_count": 56,
   "metadata": {},
   "outputs": [],
   "source": [
    "def crop_train(data_n,o_data,crop_size):\n",
    "    filepath=f'../data/geo_data/crop/train/{data_n}'\n",
    "    os.makedirs(filepath, exist_ok=True)\n",
    "    \n",
    "    print('#'*20)\n",
    "    print(f\"Start get {data_n} information\")\n",
    "    tmp=natsort.natsorted(glob(filepath+\"/*.tif\"))\n",
    "    \n",
    "    if(len(tmp)==len(o_data)):\n",
    "        print(f\"--{data_n} data already existed\")\n",
    "    else:\n",
    "        print(\"-- Not enough file please check\")\n",
    "    return\n",
    "    \n",
    "    InputImage = f'../data/geo_data/raw/{data_n}_gw.tif'   \n",
    "    RefImage = '../data/gw_boundary/boundary_blank_resized.tif'\n",
    "    \n",
    "    for i in tqdm(range(len(o_data))):\n",
    "        OutputImage = filepath+'/Crop_'+data_n+'_'+str(i)+'.tif'\n",
    "        \n",
    "        lon=o_data['lon'][i]\n",
    "        lat=o_data['lat'][i]\n",
    "        \n",
    "        crop_image_using_coordinates(InputImage, OutputImage, RefImage, lon, lat, crop_size)\n",
    "    print(f\"{data_n} Train data crop complete\")"
   ]
  },
  {
   "cell_type": "code",
   "execution_count": 57,
   "metadata": {},
   "outputs": [
    {
     "name": "stdout",
     "output_type": "stream",
     "text": [
      "####################\n",
      "Start get Height information\n",
      "--Height data already existed\n",
      "####################\n",
      "Start get Slope information\n",
      "--Slope data already existed\n"
     ]
    }
   ],
   "source": [
    "train_data=pd.read_csv(\"../data/train_data.csv\")\n",
    "crop_train('Height',train_data,1)\n",
    "crop_train('Slope',train_data,1)\n",
    "#crop_train('Landuse',train_data,1)\n",
    "#crop_train('population_density',train_data,1)\n",
    "#crop_train('NDVI',train_data,1)"
   ]
  },
  {
   "attachments": {},
   "cell_type": "markdown",
   "metadata": {},
   "source": [
    "# Test land data crop"
   ]
  },
  {
   "cell_type": "code",
   "execution_count": 26,
   "metadata": {},
   "outputs": [],
   "source": [
    "# 강원도 경계\n",
    "N = 38.61370931\n",
    "E = 129.359995\n",
    "S = 37.03353708\n",
    "W = 127.0950376\n",
    "\n",
    "width = (E-W)/399\n",
    "height= (N-S)/277\n",
    "\n",
    "width_num,height_num=[], []\n",
    "for i in range(400):\n",
    "    width_num.append(W+width*i)\n",
    "width_num=[round(i,7) for i in width_num]\n",
    "for i in range(278):\n",
    "    height_num.append(N-height*i)\n",
    "height_num=[round(i,7) for i in height_num]"
   ]
  },
  {
   "cell_type": "code",
   "execution_count": 27,
   "metadata": {},
   "outputs": [],
   "source": [
    "def crop_test(data_n,crop_size,width_num,height_num):\n",
    "    filepath=f'../data/geo_data/crop/test/{data_n}'\n",
    "    os.makedirs(filepath, exist_ok=True)\n",
    "    \n",
    "    InputImage = f'../data/geo_data/raw/{data_n}_gw.tif'   \n",
    "    RefImage = '../data/gw_boundary/boundary_blank_resized.tif'\n",
    "    \n",
    "    num=0\n",
    "    for lat in height_num:\n",
    "        for lon in width_num:\n",
    "            OutputImage = filepath+'/Crop_'+data_n+'_'+str(num)+'.tif'\n",
    "            num=num+1\n",
    "            crop_image_using_coordinates(InputImage, OutputImage, RefImage, lon, lat, crop_size)"
   ]
  },
  {
   "cell_type": "code",
   "execution_count": 28,
   "metadata": {},
   "outputs": [],
   "source": [
    "# crop_train('Height',1,width_num,height_num)\n",
    "# crop_train('Slope',1,width_num,height_num)\n",
    "# crop_train('Landuse',1,width_num,height_num)\n",
    "# crop_train('population_density',1,width_num,height_num)\n",
    "# crop_train('NDVI',1,width_num,height_num)"
   ]
  },
  {
   "attachments": {},
   "cell_type": "markdown",
   "metadata": {},
   "source": [
    "# Crop data to npy"
   ]
  },
  {
   "cell_type": "code",
   "execution_count": 49,
   "metadata": {},
   "outputs": [],
   "source": [
    "def convert_npy(data_n,types,crop_size):\n",
    "    filepath=f'../data/{data_n}_{types}.npy'\n",
    "    \n",
    "    if os.path.isfile(filepath):\n",
    "        print(\"Already existed\")\n",
    "        return\n",
    "    \n",
    "    files=natsort.natsorted(glob(f\"../data/geo_data/crop/{types}/{data_n}/*.tif\"))\n",
    "\n",
    "    tif_list=[]\n",
    "    for i in range(len(files)):\n",
    "        tmp = cv2.imread(files[i], cv2.IMREAD_COLOR)\n",
    "        tmp = cv2.cvtColor(tmp, cv2.COLOR_BGR2RGB)\n",
    "        tmp = cv2.resize(tmp, (crop_size, crop_size))\n",
    "        tmp = tmp / 255.0\n",
    "        tif_list.append(tmp)\n",
    "\n",
    "    data=np.array(tif_list)\n",
    "    np.save(filepath,data)"
   ]
  },
  {
   "cell_type": "code",
   "execution_count": 50,
   "metadata": {},
   "outputs": [
    {
     "name": "stdout",
     "output_type": "stream",
     "text": [
      "Already existed\n"
     ]
    }
   ],
   "source": [
    "convert_npy(\"Height\",'train',24)"
   ]
  },
  {
   "cell_type": "code",
   "execution_count": null,
   "metadata": {},
   "outputs": [],
   "source": []
  }
 ],
 "metadata": {
  "kernelspec": {
   "display_name": "forest_fire",
   "language": "python",
   "name": "forest_fire"
  },
  "language_info": {
   "codemirror_mode": {
    "name": "ipython",
    "version": 3
   },
   "file_extension": ".py",
   "mimetype": "text/x-python",
   "name": "python",
   "nbconvert_exporter": "python",
   "pygments_lexer": "ipython3",
   "version": "3.8.0"
  },
  "orig_nbformat": 4
 },
 "nbformat": 4,
 "nbformat_minor": 2
}
