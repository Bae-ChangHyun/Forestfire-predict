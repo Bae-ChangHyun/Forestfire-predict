{
 "cells": [
  {
   "cell_type": "code",
   "execution_count": null,
   "id": "2672f2d2",
   "metadata": {
    "ExecuteTime": {
     "end_time": "2023-05-30T12:47:28.612027Z",
     "start_time": "2023-05-30T12:47:28.598036Z"
    }
   },
   "outputs": [],
   "source": [
    "from IPython.core.interactiveshell import InteractiveShell\n",
    "InteractiveShell.ast_node_interactivity = 'all'"
   ]
  },
  {
   "cell_type": "code",
   "execution_count": null,
   "id": "08fefa42",
   "metadata": {
    "ExecuteTime": {
     "end_time": "2023-05-30T12:47:31.379558Z",
     "start_time": "2023-05-30T12:47:29.193708Z"
    }
   },
   "outputs": [],
   "source": [
    "import tensorflow as tf\n",
    "from tensorflow.keras.layers import Input, Conv2D, MaxPooling2D, Flatten, Dense, concatenate, Conv1D,Add,Activation\n",
    "from tensorflow.keras.models import Model\n",
    "from tensorflow.keras.optimizers import Adam\n",
    "import cv2\n",
    "import pandas as pd\n",
    "from tqdm import tqdm\n",
    "import os\n",
    "import natsort\n",
    "from glob import glob\n",
    "import numpy as np\n",
    "import warnings\n",
    "import json\n",
    "\n",
    "warnings.filterwarnings(action='ignore')\n",
    "warnings.simplefilter(action='ignore', category=FutureWarning) # FutureWarning 제거"
   ]
  },
  {
   "cell_type": "code",
   "execution_count": null,
   "id": "a59f39d1",
   "metadata": {
    "ExecuteTime": {
     "end_time": "2023-05-30T12:47:31.981829Z",
     "start_time": "2023-05-30T12:47:31.946990Z"
    }
   },
   "outputs": [],
   "source": [
    "physical_devices = tf.config.experimental.list_physical_devices('GPU')\n",
    "tf.config.experimental.set_visible_devices(physical_devices, 'GPU')"
   ]
  },
  {
   "cell_type": "code",
   "execution_count": null,
   "id": "db3d93b7",
   "metadata": {
    "ExecuteTime": {
     "end_time": "2023-05-30T12:47:33.923524Z",
     "start_time": "2023-05-30T12:47:33.904078Z"
    }
   },
   "outputs": [],
   "source": [
    "gpus = tf.config.list_physical_devices('GPU')\n",
    "if gpus:\n",
    "    #! GPU 사용 가능\n",
    "    for gpu in gpus:\n",
    "        print(\"GPU:\", gpu)\n",
    "else:\n",
    "    #! GPU 사용 불가능\n",
    "    print(\"GPU not found\")"
   ]
  },
  {
   "attachments": {},
   "cell_type": "markdown",
   "id": "2680fd88",
   "metadata": {},
   "source": [
    "### Data load "
   ]
  },
  {
   "cell_type": "code",
   "execution_count": null,
   "id": "8f0d9220",
   "metadata": {
    "ExecuteTime": {
     "end_time": "2023-05-30T12:47:41.005728Z",
     "start_time": "2023-05-30T12:47:39.148872Z"
    }
   },
   "outputs": [],
   "source": [
    "image_size=24\n",
    "\n",
    "path=f\"../data/modeling_data/train/\"\n",
    "\n",
    "height_train=np.load(path+'Height_train.npy')\n",
    "ndvi_train=np.load(path+'NDVI_train.npy')\n",
    "slope_train=np.load(path+'Slope_train.npy')\n",
    "landuse_train=np.load(path+'Landuse_train.npy')\n",
    "popden_train=np.load(path+'population_density_train.npy')\n",
    "\n",
    "tabular_data=pd.read_csv(path+\"climate_train.csv\")\n",
    "tabular_data.drop(['lon', 'lat'],axis=1,inplace=True)\n",
    "tabular_data=tabular_data.replace(32767.0,-9999)\n",
    "#tabular_data=tabular_data.replace(-9999.0,0)\n",
    "tabular_data[['rainfall','temp','windspeed','humidity']].plot()\n",
    "x,y=[],[]\n",
    "for j in tqdm(range(len(tabular_data))):\n",
    "    x.append(np.array(tabular_data.loc[j, ['humidity', 'rainfall', 'temp', 'windspeed']]).astype(float))\n",
    "    y.append(np.array(tabular_data.loc[j, ['target']]).astype(float))\n",
    "climate = np.array(x)\n",
    "y = np.array(y)"
   ]
  },
  {
   "cell_type": "code",
   "execution_count": null,
   "id": "f2c17c12",
   "metadata": {
    "ExecuteTime": {
     "end_time": "2023-05-30T12:48:22.924611Z",
     "start_time": "2023-05-30T12:48:21.947291Z"
    },
    "code_folding": [],
    "scrolled": true
   },
   "outputs": [],
   "source": [
    "height_input = Input(shape=(image_size, image_size, 3), name='height_input')\n",
    "ndvi_input = Input(shape=(image_size, image_size, 3), name='ndvi_input')\n",
    "slope_input = Input(shape=(image_size, image_size, 3), name='slope_input')\n",
    "landuse_input = Input(shape=(image_size, image_size, 3), name='landuse_input')\n",
    "popden_input = Input(shape=(image_size, image_size, 3), name='popden_input')\n",
    "climate_input = Input(shape=(4,1), name='climate_input')\n",
    "\n",
    "def residual_block(input_layer, filters, kernel_size):\n",
    "    x = Conv2D(filters, kernel_size, padding='same')(input_layer)\n",
    "    x = Conv2D(filters, kernel_size, padding='same')(x)\n",
    "    \n",
    "    if input_layer.shape[-1] != filters:\n",
    "        input_layer = Conv2D(filters, (1, 1), padding='same')(input_layer)\n",
    "    \n",
    "    x = Add()([input_layer, x])\n",
    "    x = Activation('relu')(x)\n",
    "    return x\n",
    "\n",
    "def res_layers(input_layer):\n",
    "    x = Conv2D(64, (3, 3), strides=(1, 1), padding='same')(input_layer)\n",
    "    x = MaxPooling2D((2, 2), strides=(2, 2), padding='same')(x)\n",
    "    \n",
    "    x = residual_block(x, 64, (3, 3))\n",
    "    x = residual_block(x, 64, (3, 3))\n",
    "    \n",
    "    x = residual_block(x, 128, (3, 3))\n",
    "    x = residual_block(x, 128, (3, 3))\n",
    "    \n",
    "    x = Flatten()(x)\n",
    "    x = Dense(128, activation='relu')(x)\n",
    "    \n",
    "    return x\n",
    "\n",
    "def cnn_layers(input_layer):\n",
    "    conv1_im = Conv2D(32, kernel_size=(3,3), activation='relu', padding='same')(input_layer)\n",
    "    pool1_im = MaxPooling2D(pool_size=(2,2))(conv1_im)\n",
    "    \n",
    "    conv2 = Conv2D(64, kernel_size=(3,3), activation='relu', padding='same')(pool1_im)\n",
    "    pool2 = MaxPooling2D(pool_size=(2,2))(conv2)\n",
    "    \n",
    "    conv3 = Conv2D(128, kernel_size=(3,3), activation='relu', padding='same')(pool2)\n",
    "    pool3 = MaxPooling2D(pool_size=(2,2))(conv3)\n",
    "    \n",
    "    conv4 = Conv2D(256, kernel_size=(3,3), activation='relu', padding='same')(pool3)\n",
    "    pool4 = MaxPooling2D(pool_size=(2,2))(conv4)\n",
    "    \n",
    "    flatten = Flatten()(pool4)\n",
    "    \n",
    "    dense1 = Dense(128, activation='relu')(flatten)\n",
    "    \n",
    "    return dense1\n",
    "\n",
    "\n",
    "def dense_layer(input_layer):\n",
    "    dense0 = Dense(64, activation='relu')(input_layer)\n",
    "    dense1 = Dense(64, activation='relu')(dense0)\n",
    "    flatten = Flatten()(dense1)\n",
    "    dense2 = Dense(64, activation='relu')(flatten)\n",
    "    return dense2\n",
    "    \n",
    "height_cnn = cnn_layers(height_input)\n",
    "ndvi_cnn = cnn_layers(ndvi_input)\n",
    "slope_cnn = cnn_layers(slope_input)\n",
    "landuse_cnn = cnn_layers(landuse_input)\n",
    "popden_cnn = cnn_layers(popden_input)\n",
    "climate_cnn = dense_layer(climate_input)\n",
    "\n",
    "merged = concatenate([height_cnn, ndvi_cnn, slope_cnn, landuse_cnn, popden_cnn, climate_cnn])\n",
    "\n",
    "output_layer = Dense(1, activation='sigmoid', name='output_layer')(merged)\n",
    "\n",
    "model = Model(inputs=[height_input, ndvi_input,slope_input,landuse_input,popden_input,climate_input], outputs=output_layer)\n",
    "\n",
    "model.compile(optimizer=Adam(learning_rate=0.0001), loss='binary_crossentropy', metrics=['accuracy'])\n",
    "\n",
    "model.summary()"
   ]
  },
  {
   "cell_type": "code",
   "execution_count": null,
   "id": "9dbdcce6",
   "metadata": {},
   "outputs": [],
   "source": [
    "x_train = {\n",
    "    'height_input': height_train,\n",
    "    'ndvi_input': ndvi_train,\n",
    "    'slope_input': slope_train,\n",
    "    'landuse_input': landuse_train,\n",
    "    'popden_input': popden_train,\n",
    "    'climate_input':climate\n",
    "}"
   ]
  },
  {
   "attachments": {},
   "cell_type": "markdown",
   "id": "6741757d",
   "metadata": {},
   "source": [
    "### Mobile_net model (imagesize=32일때만 적용 가능 )"
   ]
  },
  {
   "cell_type": "code",
   "execution_count": null,
   "id": "e728bb3f",
   "metadata": {},
   "outputs": [],
   "source": [
    "# from tensorflow.keras.applications import MobileNet\n",
    "# from tensorflow.keras.layers import Input, Dense, Flatten, concatenate\n",
    "# from tensorflow.keras.models import Model\n",
    "# from tensorflow.keras.optimizers import Adam\n",
    "\n",
    "# # 입력층 정의\n",
    "# height_input = Input(shape=(32, 32, 3), name='height_input')\n",
    "# ndvi_input = Input(shape=(32, 32, 3), name='ndvi_input')\n",
    "# slope_input = Input(shape=(32, 32, 3), name='slope_input')\n",
    "# landuse_input = Input(shape=(32, 32, 3), name='landuse_input')\n",
    "# popden_input = Input(shape=(32, 32, 3), name='popden_input')\n",
    "# climate_input = Input(shape=(4, 1), name='climate_input')\n",
    "\n",
    "# # MobileNet 모델의 인스턴스 생성\n",
    "# mobilenet = MobileNet(include_top=False, weights='imagenet')\n",
    "\n",
    "# def dense_layer(input_layer):\n",
    "#     dense0 = Dense(64, activation='relu')(input_layer)\n",
    "#     dense1 = Dense(64, activation='relu')(dense0)\n",
    "#     flatten = Flatten()(dense1)\n",
    "#     dense2 = Dense(64, activation='relu')(flatten)\n",
    "#     return dense2\n",
    "\n",
    "# # 입력층을 모델에 적용하여 특성 추출\n",
    "# height_features = mobilenet(height_input)\n",
    "# ndvi_features = mobilenet(ndvi_input)\n",
    "# slope_features = mobilenet(slope_input)\n",
    "# landuse_features = mobilenet(landuse_input)\n",
    "# popden_features = mobilenet(popden_input)\n",
    "# climate_features=dense_layer(climate_input)\n",
    "\n",
    "\n",
    "# # 특성 맵을 일렬로 펼침\n",
    "# flatten_height = Flatten()(height_features)\n",
    "# flatten_ndvi = Flatten()(ndvi_features)\n",
    "# flatten_slope = Flatten()(slope_features)\n",
    "# flatten_landuse = Flatten()(landuse_features)\n",
    "# flatten_popden = Flatten()(popden_features)\n",
    "# flatten_climate = Flatten()(climate_features)\n",
    "\n",
    "# # 특성 맵을 병합\n",
    "# merged = concatenate([flatten_height, flatten_ndvi, flatten_slope, flatten_landuse, flatten_popden, flatten_climate])\n",
    "\n",
    "# # 출력층 정의\n",
    "# output_layer = Dense(1, activation='sigmoid', name='output_layer')(merged)\n",
    "\n",
    "# # 모델 정의\n",
    "# model = Model(inputs=[height_input, ndvi_input, slope_input, landuse_input, popden_input, climate_input], outputs=output_layer)\n",
    "\n",
    "# # 모델 컴파일\n",
    "# model.compile(optimizer=Adam(learning_rate=0.0001), loss='binary_crossentropy',metrics=['accuracy'])\n",
    "\n",
    "# model.summary()\n"
   ]
  },
  {
   "cell_type": "code",
   "execution_count": null,
   "id": "2c7e7235",
   "metadata": {
    "ExecuteTime": {
     "end_time": "2023-05-30T12:48:35.313102Z",
     "start_time": "2023-05-30T12:48:31.307154Z"
    },
    "scrolled": false
   },
   "outputs": [],
   "source": [
    "class AccuracyThresholdCallback(tf.keras.callbacks.Callback):\n",
    "    def on_epoch_end(self, epoch, logs=None):\n",
    "        if logs.get('accuracy') > 0.95:\n",
    "            print(\"Reached accuracy threshold (0.9). Stopping training.\")\n",
    "            self.model.stop_training = True\n",
    "model.fit(x_train, y, epochs=100, batch_size=128, callbacks=[AccuracyThresholdCallback()])"
   ]
  },
  {
   "cell_type": "code",
   "execution_count": null,
   "id": "6d3f91a9",
   "metadata": {
    "ExecuteTime": {
     "end_time": "2023-05-30T12:48:38.323514Z",
     "start_time": "2023-05-30T12:48:37.674712Z"
    }
   },
   "outputs": [],
   "source": [
    "model.save(f\"C:/Users/user/fire_model/cnn24\") "
   ]
  },
  {
   "cell_type": "code",
   "execution_count": null,
   "id": "b84af957",
   "metadata": {},
   "outputs": [],
   "source": []
  },
  {
   "cell_type": "code",
   "execution_count": null,
   "id": "d5df015c",
   "metadata": {},
   "outputs": [],
   "source": []
  }
 ],
 "metadata": {
  "kernelspec": {
   "display_name": "forest_fire",
   "language": "python",
   "name": "forest_fire"
  },
  "language_info": {
   "codemirror_mode": {
    "name": "ipython",
    "version": 3
   },
   "file_extension": ".py",
   "mimetype": "text/x-python",
   "name": "python",
   "nbconvert_exporter": "python",
   "pygments_lexer": "ipython3",
   "version": "3.8.0"
  },
  "toc": {
   "base_numbering": 1,
   "nav_menu": {},
   "number_sections": true,
   "sideBar": true,
   "skip_h1_title": false,
   "title_cell": "Table of Contents",
   "title_sidebar": "Contents",
   "toc_cell": false,
   "toc_position": {
    "height": "calc(100% - 180px)",
    "left": "10px",
    "top": "150px",
    "width": "165px"
   },
   "toc_section_display": true,
   "toc_window_display": true
  },
  "varInspector": {
   "cols": {
    "lenName": 16,
    "lenType": 16,
    "lenVar": 40
   },
   "kernels_config": {
    "python": {
     "delete_cmd_postfix": "",
     "delete_cmd_prefix": "del ",
     "library": "var_list.py",
     "varRefreshCmd": "print(var_dic_list())"
    },
    "r": {
     "delete_cmd_postfix": ") ",
     "delete_cmd_prefix": "rm(",
     "library": "var_list.r",
     "varRefreshCmd": "cat(var_dic_list()) "
    }
   },
   "types_to_exclude": [
    "module",
    "function",
    "builtin_function_or_method",
    "instance",
    "_Feature"
   ],
   "window_display": false
  }
 },
 "nbformat": 4,
 "nbformat_minor": 5
}
