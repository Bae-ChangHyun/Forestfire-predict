{
 "cells": [
  {
   "cell_type": "code",
   "execution_count": null,
   "id": "c324f064",
   "metadata": {
    "ExecuteTime": {
     "end_time": "2023-05-30T12:55:55.351735Z",
     "start_time": "2023-05-30T12:55:53.539165Z"
    }
   },
   "outputs": [],
   "source": [
    "import os\n",
    "import urllib3\n",
    "import requests\n",
    "import pandas as pd\n",
    "import time\n",
    "from tqdm.auto import tqdm\n",
    "from datetime import datetime, timedelta, date\n",
    "from glob import glob\n",
    "import rasterio\n",
    "from pyidw import idw \n",
    "import geopandas as gpd #\n",
    "import matplotlib.pyplot as plt\n",
    "from osgeo import gdal, ogr\n",
    "import shutil\n",
    "import warnings\n",
    "import json\n",
    "from glob import glob\n",
    "\n",
    "warnings.filterwarnings(action='ignore')\n",
    "warnings.simplefilter(action='ignore', category=FutureWarning) # FutureWarning 제거\n",
    "urllib3.disable_warnings(urllib3.exceptions.InsecureRequestWarning)\n",
    "\n",
    "from IPython.core.interactiveshell import InteractiveShell\n",
    "InteractiveShell.ast_node_interactivity = 'all'"
   ]
  },
  {
   "attachments": {},
   "cell_type": "markdown",
   "id": "5b531743",
   "metadata": {},
   "source": [
    "# 기상데이터 좌표"
   ]
  },
  {
   "cell_type": "code",
   "execution_count": null,
   "id": "9973599b",
   "metadata": {
    "ExecuteTime": {
     "end_time": "2023-05-30T12:55:56.359959Z",
     "start_time": "2023-05-30T12:55:56.320080Z"
    }
   },
   "outputs": [],
   "source": [
    "future_loc=pd.read_csv(\"..data/future_loc.csv\",encoding='cp949') # 현재, 미래 데이터 크롤링 \n",
    "past_loc=pd.read_csv(\"..data/aws_loc_list.csv\")  # 과거 데이터 크롤링 "
   ]
  },
  {
   "attachments": {},
   "cell_type": "markdown",
   "id": "e8173530",
   "metadata": {},
   "source": [
    "# 크롤링"
   ]
  },
  {
   "cell_type": "code",
   "execution_count": null,
   "id": "95b62820",
   "metadata": {
    "ExecuteTime": {
     "end_time": "2023-05-30T12:55:57.386167Z",
     "start_time": "2023-05-30T12:55:57.379957Z"
    }
   },
   "outputs": [],
   "source": [
    "def future_weather_crawling(date,times,locn):\n",
    "    url = 'https://apis.data.go.kr/1360000/VilageFcstInfoService_2.0/getUltraSrtFcst'\n",
    "    \n",
    "    params ={'serviceKey' : '3imQf/ygL+vTqRcXZ19hAwVhJhVDxZ2yRGtaRQPk/F3rFSVB2Kvu7LFfoGVhB4rYfTVk2kILGAhhJvmu9kQUzA==', #AuthenticationKey\n",
    "             'pageNo' : '1',\n",
    "             'numOfRows' : '1000',\n",
    "             'dataType' : 'JSON', \n",
    "             'base_date' : date, \n",
    "             'base_time' : times, \n",
    "             'nx' : locn[1], \n",
    "             'ny' : locn[0], \n",
    "            }\n",
    "    for i in range(5):  # 최대 5번까지 시도\n",
    "        try:\n",
    "            response = requests.get(url, params=params,verify=False)\n",
    "            try:\n",
    "                json_obj = json.loads(response.content)\n",
    "                try:\n",
    "                    json_obj=json_obj[\"response\"][\"body\"][\"items\"][\"item\"]       \n",
    "                    return json_obj\n",
    "                except:\n",
    "                    print(\"Retry1\")\n",
    "                    print(json_obj)\n",
    "                    time.sleep(5)\n",
    "            except:\n",
    "                print(response.content)\n",
    "                try:\n",
    "                    json_obj = json.loads(response.content)\n",
    "                    print(response,json_obj)\n",
    "                    print(\"Retry2\")\n",
    "                    time.sleep(5)\n",
    "                except json.JSONDecodeError:\n",
    "                    time.sleep(2)\n",
    "                    continue  \n",
    "        except (requests.exceptions.HTTPError, requests.exceptions.ConnectionError) as e:\n",
    "            print(f'Network ERROR')\n",
    "            time.sleep(2)\n",
    "    return np.nan "
   ]
  },
  {
   "cell_type": "code",
   "execution_count": null,
   "id": "3a7ceda7",
   "metadata": {
    "ExecuteTime": {
     "end_time": "2023-05-30T12:55:57.733003Z",
     "start_time": "2023-05-30T12:55:57.714175Z"
    }
   },
   "outputs": [],
   "source": [
    "def past_weather_crawling(date,locn):\n",
    "    \n",
    "    url = 'http://apis.data.go.kr/1360000/AsosHourlyInfoService/getWthrDataList'\n",
    "    startDt=datetime.strptime(date[:8], '%Y%m%d') # 시작날짜\n",
    "    startHh = datetime.strptime(date[8:], '%H')   # 시작시간\n",
    "    endHh = (startHh + timedelta(hours=1))        # 시작날짜 + 1 (23같은경우 00이 되게 하기위해서 timedelta 이용)\n",
    "    \n",
    "    if(endHh.strftime('%H:%M:%S').split(':')[0]=='00'):\n",
    "        endDt=(startDt + timedelta(days=1))\n",
    "        \n",
    "    else:\n",
    "        endDt=startDt # endhh==00이면 시작날짜와 종료날짜가 달라야함. 22일 23시와 23일 00시 이런식.\n",
    "\n",
    "    startDt=startDt.strftime('%Y%m%d')\n",
    "    startHh=startHh.strftime('%H:%M:%S').split(':')[0]\n",
    "    endDt=endDt.strftime('%Y%m%d')\n",
    "    endHh=endHh.strftime('%H:%M:%S').split(':')[0]\n",
    "    \n",
    "    params ={'serviceKey' : '3imQf/ygL+vTqRcXZ19hAwVhJhVDxZ2yRGtaRQPk/F3rFSVB2Kvu7LFfoGVhB4rYfTVk2kILGAhhJvmu9kQUzA==', #AuthenticationKey\n",
    "             'pageNo' : '1',\n",
    "             'numOfRows' : '10',\n",
    "             'dataType' : 'JSON', \n",
    "             'dataCd' : 'ASOS', \n",
    "             'dateCd' : 'HR', \n",
    "             'startDt' : startDt, #startdate\n",
    "             'startHh' : startHh, #starttime\n",
    "             'endDt' : endDt, # end date\n",
    "             'endHh' : endHh, # end time\n",
    "             'stnIds' : locn \n",
    "            }\n",
    "    for i in range(5):  # 최대 5번까지 시도\n",
    "        try:\n",
    "            response = requests.get(url, params=params,verify=False)\n",
    "            try:\n",
    "                json_obj = json.loads(response.content)\n",
    "                try:\n",
    "                    json_obj=json_obj[\"response\"][\"body\"][\"items\"][\"item\"][0]\n",
    "                    times=json_obj['tm']\n",
    "                    humidity=json_obj['hm']\n",
    "                    windspeed=json_obj['ws']\n",
    "                    winddir=json_obj['wd']\n",
    "                    rain=json_obj['rn']\n",
    "                    temp=json_obj['ta']              \n",
    "                    return times, humidity, windspeed, winddir, rain, temp\n",
    "                except:\n",
    "                    print(\"Retry1\")\n",
    "                    print(json_obj)\n",
    "                    time.sleep(5)\n",
    "            except:\n",
    "                print(response.content)\n",
    "                try:\n",
    "                    json_obj = json.loads(response.content)\n",
    "                    print(response,json_obj)\n",
    "                    print(\"Retry2\")\n",
    "                    time.sleep(5)\n",
    "                except json.JSONDecodeError:\n",
    "                    time.sleep(2)\n",
    "                    continue   \n",
    "        except (requests.exceptions.HTTPError, requests.exceptions.ConnectionError) as e:\n",
    "            print(f'오류 발생 재시도')\n",
    "            time.sleep(2)\n",
    "    return np.nan,np.nan,np.nan,np.nan,np.nan,np.nan  "
   ]
  },
  {
   "cell_type": "code",
   "execution_count": null,
   "id": "8da68a14",
   "metadata": {
    "ExecuteTime": {
     "end_time": "2023-05-30T12:55:58.018671Z",
     "start_time": "2023-05-30T12:55:57.984703Z"
    }
   },
   "outputs": [],
   "source": [
    "def iffuture(date,times,loc_list):\n",
    "    result_list=[]\n",
    "    \n",
    "    fulldate=date+times\n",
    "    file_name = datetime.strptime(fulldate, \"%Y%m%d%H%M\")\n",
    "    file_1 = (file_name + timedelta(hours=1, minutes=30)).strftime(\"%Y%m%d%H%M\")\n",
    "    file_2 = (file_name + timedelta(hours=2, minutes=30)).strftime(\"%Y%m%d%H%M\")\n",
    "    file_3 = (file_name + timedelta(hours=3, minutes=30)).strftime(\"%Y%m%d%H%M\")\n",
    "    \n",
    "    for i in tqdm(range(len(loc_list))):\n",
    "        loc=(loc_list['격자 Y'].iloc[i],loc_list['격자 X'].iloc[i])\n",
    "\n",
    "        result=pd.DataFrame(future_weather_crawling(date,times,loc))\n",
    "\n",
    "        t_1=file_1[-4:]\n",
    "        t_2=file_2[-4:]\n",
    "        t_3=file_3[-4:]\n",
    "\n",
    "        time_list = [t_1,t_2,t_3]\n",
    "\n",
    "        output = result[result['fcstTime'].isin(time_list)]\n",
    "        output = output.pivot(index=['baseDate', 'baseTime', 'fcstDate', 'fcstTime', 'nx', 'ny'], columns='category', values='fcstValue').reset_index()\n",
    "\n",
    "        output.drop(['LGT','VEC','SKY','UUU','VVV','PTY'],axis=1,inplace=True)\n",
    "        output.columns=['baseDate', 'baseTime', 'fcstDate', 'fcstTime', 'nx', 'ny','습도','강수량','기온','풍속']\n",
    "        result_list.append(output)\n",
    "\n",
    "    test = pd.concat(result_list, ignore_index=True)\n",
    "\n",
    "    tmp1=test[test['fcstTime']==t_1].reset_index(drop=True)\n",
    "    tmp2=test[test['fcstTime']==t_2].reset_index(drop=True)\n",
    "    tmp3=test[test['fcstTime']==t_3].reset_index(drop=True)\n",
    "\n",
    "    tmp1.to_csv(f'{f_path}/{file_1}.csv',index=False,encoding='cp949')\n",
    "    tmp2.to_csv(f'{f_path}/{file_2}.csv',index=False,encoding='cp949')\n",
    "    tmp3.to_csv(f'{f_path}/{file_3}.csv',index=False,encoding='cp949')\n",
    "    \n",
    "    return [file_1,file_2,file_3]\n",
    "    \n",
    "def ifpast(date,times,loc_list):\n",
    "    fulldate=date+times\n",
    "    \n",
    "    loc_num=loc_list['지점번호']\n",
    "    file=fulldate+'00'\n",
    "\n",
    "    tmp=pd.DataFrame(columns=['location information', 'longitude','latitude','time','humidity','wind speed','wind direction','precipitation','temperature'])\n",
    "    for j in tqdm(range(len(loc_num))):\n",
    "        result=[loc_num[j],loc_list['lon'][j],loc_list['lat'][j]]\n",
    "        result.extend(past_weather_crawling(fulldate,loc_num[j])) \n",
    "        tmp = pd.concat([tmp, pd.DataFrame([result], columns=tmp.columns)], ignore_index=True)\n",
    "    tmp.to_csv(f\"{f_path}/{file}.csv\",index=False,encoding='cp949')\n",
    "    \n",
    "    return [file]"
   ]
  },
  {
   "cell_type": "code",
   "execution_count": null,
   "id": "fcd9e603",
   "metadata": {
    "ExecuteTime": {
     "end_time": "2023-05-30T12:55:58.365258Z",
     "start_time": "2023-05-30T12:55:58.345800Z"
    }
   },
   "outputs": [],
   "source": [
    "def interpolation(filenames,tense):\n",
    "    for i in range(len(filenames)):\n",
    "        image_list=[]\n",
    "        os.makedirs(f\"database/{filenames[i]}/interpolation\", exist_ok=True)\n",
    "        data=pd.read_csv(f'{f_path}/{filenames[i]}.csv',encoding='cp949')\n",
    "        \n",
    "        if(tense==1):\n",
    "            data.drop(['baseDate','baseTime','fcstDate','fcstTime'],axis=1,inplace=True)\n",
    "            data.columns=['nx','ny','humidity','rainfall','temp','wind_sp']\n",
    "            data['rainfall'] = data['rainfall'].replace('강수없음', '0mm')\n",
    "            data['rainfall']=[j[:-2] for j in data['rainfall']]\n",
    "            data['rainfall']=data['rainfall'].fillna(0)\n",
    "            data['rainfall']=data['rainfall'].astype('float')\n",
    "            data = gpd.GeoDataFrame(data, geometry=gpd.points_from_xy(data.ny, data.nx)).drop(['nx','ny'],axis=1)\n",
    "        else:\n",
    "            data.columns=['loc_info', 'longitude', 'latitude', 'time','humidity', 'wind_sp', 'wind_dr', 'rainfall','temp']\n",
    "            data.dropna(subset=['time'], inplace=True)\n",
    "            data['rainfall']=data['rainfall'].fillna(0)\n",
    "            data=data.dropna()\n",
    "            data.drop(['loc_info','time'],axis=1,inplace=True)\n",
    "            data = gpd.GeoDataFrame(data, geometry=gpd.points_from_xy(data.longitude, data.latitude))\n",
    "            \n",
    "        data.to_file(f'tmp.shp')\n",
    "\n",
    "        for j in range(len(features)):\n",
    "            idw.idw_interpolation(\n",
    "                input_point_shapefile=f'tmp.shp', # 보간하고자 하는 shp 파일 \n",
    "                extent_shapefile=\"boundary/boundary.shp\", # 경계 shp 파일(현재 강원도)\n",
    "                column_name=features[j], # 보간하고자 하는 feature 이름. \n",
    "                power=2, # 거리 가중치 계수 \n",
    "                search_radious=8, # 검색하고자 하는 범위 \n",
    "                output_resolution=400, # 결과물 해상도 \n",
    "            )\n",
    "            image=rasterio.open(f'tmp_idw.tif')\n",
    "            image=pd.DataFrame(image.read(1))\n",
    "            image_list.append(image)\n",
    "            shutil.move(f'tmp_idw.tif', f\"{f_path}{filenames[i]}/interpolation/{filenames[i]}_{features[j]}.tif\")\n",
    "            \n",
    "        temps,hums,rains,winds=[],[],[],[]\n",
    "        for j in range(len(image.index)):\n",
    "            for k in range(len(image.columns)):\n",
    "                hums.append(image_list[0].iloc[j][k])\n",
    "                rains.append(image_list[1].iloc[j][k])\n",
    "                temps.append(image_list[2].iloc[j][k])\n",
    "                winds.append(image_list[3].iloc[j][k])\n",
    "                \n",
    "        climates = {'temp': temps, 'hum': hums, 'rain': rains, 'wind': winds}\n",
    "        df = pd.DataFrame(climates)\n",
    "        df=df.replace(32767.0,-9999)\n",
    "        #df.to_csv(f\"{f_path}/{date}{file[epoch]}_idw.csv\",index=False)\n",
    "        x_train=[]\n",
    "        for j in tqdm(range(len(df))):\n",
    "            x_train.append(np.array(df.loc[j, ['temp','hum','rain','wind']]).astype(float))\n",
    "        climate = np.array(x_train)\n",
    "        np.save(f'{f_path}{filenames[i]}/{filenames[i]}.npy', climate)\n",
    "        os.remove(f'{f_path}/{filenames[i]}.csv')\n",
    "        #os.remove(f'{f_path}/{date}{file[epoch]}.csv')\n",
    "    os.remove(f\"tmp.shp\")\n",
    "    os.remove(f\"tmp.cpg\")\n",
    "    os.remove(f\"tmp.dbf\")\n",
    "    os.remove(f\"tmp.shx\")\n",
    "    #os.remove(f\"tmp_idw.tif\")\n",
    "    "
   ]
  },
  {
   "cell_type": "code",
   "execution_count": null,
   "id": "0f9cac0c",
   "metadata": {
    "ExecuteTime": {
     "end_time": "2023-05-30T12:55:58.833518Z",
     "start_time": "2023-05-30T12:55:58.818616Z"
    }
   },
   "outputs": [],
   "source": [
    "def image_to_array(InputImage):\n",
    "    Image = gdal.Open(InputImage, gdal.GA_Update)\n",
    "    array = Image.ReadAsArray()\n",
    "    print(array.shape)\n",
    "    return array\n",
    "\n",
    "def array_to_image(InputArr, OutputImage, RefImage):\n",
    "    Image = gdal.Open(RefImage, gdal.GA_Update)\n",
    "    ImageArr = Image.ReadAsArray()\n",
    "    \n",
    "    open(OutputImage, 'w')\n",
    "    Output = gdal.GetDriverByName('GTiff').Create(OutputImage, ImageArr.shape[1], ImageArr.shape[0], 1, gdal.GDT_Float32)\n",
    "    #writting output raster\n",
    "    Output.GetRasterBand(1).WriteArray(InputArr)\n",
    "    Output.SetProjection(Image.GetProjection())\n",
    "    Output.SetGeoTransform(Image.GetGeoTransform())\n",
    "\n",
    "    Image = None\n",
    "    Output = None"
   ]
  },
  {
   "cell_type": "code",
   "execution_count": null,
   "id": "c7a60c73",
   "metadata": {
    "ExecuteTime": {
     "end_time": "2023-05-30T12:57:46.682143Z",
     "start_time": "2023-05-30T12:55:59.311955Z"
    }
   },
   "outputs": [],
   "source": [
    "f_path = f'database/'\n",
    "os.makedirs(f\"{f_path}\", exist_ok=True)\n",
    "today = date.today()\n",
    "features=['humidity','wind_sp','rainfall','temp']\n",
    "\n",
    "inputdate=input(\"yyyymmdd 형식으로 적어주세요 \")\n",
    "dates= datetime.strptime(inputdate, \"%Y%m%d\").date()\n",
    "\n",
    "if(dates>=today):\n",
    "    print(\"미래\")\n",
    "    tense=1\n",
    "    times=input(\"tt30 형식으로 적어주세요\")\n",
    "    filenames=iffuture(inputdate,times,future_loc)\n",
    "    \n",
    "else:\n",
    "    print(\"과거\")\n",
    "    tense=0\n",
    "    times=input(\"tt형식으로 적어주세요.\")\n",
    "    filenames=ifpast(inputdate,times,past_loc)\n",
    " \n",
    "# 보간법 \n",
    "\n",
    "interpolation(filenames,tense)"
   ]
  },
  {
   "attachments": {},
   "cell_type": "markdown",
   "id": "ffa6b25a",
   "metadata": {},
   "source": [
    "# 보간 및 input형식 만들기"
   ]
  },
  {
   "cell_type": "code",
   "execution_count": 1,
   "id": "141883a7",
   "metadata": {
    "ExecuteTime": {
     "end_time": "2023-05-31T06:07:55.600541Z",
     "start_time": "2023-05-31T06:07:53.555271Z"
    }
   },
   "outputs": [],
   "source": [
    "import tensorflow as tf\n",
    "import numpy as np\n",
    "\n",
    "gpus = tf.config.list_physical_devices('GPU')\n",
    "if gpus:\n",
    "    try:\n",
    "        for gpu in gpus:\n",
    "            tf.config.experimental.set_memory_growth(gpu, True)\n",
    "            logical_gpus = tf.config.list_logical_devices('GPU')\n",
    "        print(len(gpus), \"Physical GPUs,\", len(logical_gpus), \"Logical GPUs\")\n",
    "    except RuntimeError as e:\n",
    "        print(e)\n",
    "#from tensorflow.python.client import device_lib\n",
    "#device_lib.list_local_devices()\n",
    "\n",
    "model = tf.keras.models.load_model(\"C:/Users/user/fire_model/cnn24\")"
   ]
  },
  {
   "cell_type": "code",
   "execution_count": 2,
   "id": "f6b907d1",
   "metadata": {
    "ExecuteTime": {
     "end_time": "2023-05-31T06:07:56.623170Z",
     "start_time": "2023-05-31T06:07:56.607846Z"
    }
   },
   "outputs": [
    {
     "data": {
      "text/plain": [
       "['메모장.txt',\n",
       " '202305291500',\n",
       " '202305091600',\n",
       " '202305021000',\n",
       " '202305111600',\n",
       " '202305131800',\n",
       " '202303181600',\n",
       " '202303211400',\n",
       " '202203041200']"
      ]
     },
     "execution_count": 2,
     "metadata": {},
     "output_type": "execute_result"
    }
   ],
   "source": [
    "from glob import glob\n",
    "import os\n",
    "os.listdir('../data/database/')"
   ]
  },
  {
   "cell_type": "code",
   "execution_count": 3,
   "id": "6fabd41b",
   "metadata": {
    "ExecuteTime": {
     "end_time": "2023-05-31T06:09:03.368550Z",
     "start_time": "2023-05-31T06:09:03.345828Z"
    }
   },
   "outputs": [],
   "source": [
    "inputdate='202203041200'\n",
    "climate_test=np.load(f'../data/database/{inputdate}/{inputdate}.npy')"
   ]
  },
  {
   "cell_type": "code",
   "execution_count": 4,
   "id": "461ee416",
   "metadata": {
    "ExecuteTime": {
     "end_time": "2023-05-31T06:08:30.416547Z",
     "start_time": "2023-05-31T06:07:59.959761Z"
    }
   },
   "outputs": [],
   "source": [
    "Height_test=np.load('../data/modeling_data/test/Height_test.npy')\n",
    "NDVI_test=np.load('../data/modeling_data/test/NDVI_test.npy')\n",
    "Slope_test=np.load('../data/modeling_data/test/Slope_test.npy')\n",
    "landuse_test=np.load('../data/modeling_data/test/Landuse_test.npy')\n",
    "popden_test=np.load('../data/modeling_data/test/population_density_test.npy')"
   ]
  },
  {
   "cell_type": "code",
   "execution_count": 5,
   "id": "3a6a5e08",
   "metadata": {
    "ExecuteTime": {
     "end_time": "2023-05-31T06:09:04.930894Z",
     "start_time": "2023-05-31T06:09:04.920179Z"
    }
   },
   "outputs": [],
   "source": [
    "x_test = {\n",
    "    'height_input': Height_test,\n",
    "    'ndvi_input': NDVI_test,\n",
    "    'slope_input': Slope_test,\n",
    "    'landuse_input': landuse_test,\n",
    "    'popden_input': popden_test,\n",
    "    'climate_input':climate_test\n",
    "}"
   ]
  },
  {
   "cell_type": "code",
   "execution_count": 6,
   "id": "024c48b9",
   "metadata": {
    "ExecuteTime": {
     "end_time": "2023-05-31T06:09:07.576338Z",
     "start_time": "2023-05-31T06:09:05.572735Z"
    }
   },
   "outputs": [
    {
     "name": "stdout",
     "output_type": "stream",
     "text": [
      "3475/3475 [==============================] - 42s 12ms/step\n"
     ]
    }
   ],
   "source": [
    "y_pred = model.predict(x_test)\n",
    "#y_pred2 = model2.predict(x_test2)"
   ]
  },
  {
   "cell_type": "code",
   "execution_count": 7,
   "id": "4a0052d4",
   "metadata": {
    "ExecuteTime": {
     "end_time": "2023-05-31T06:09:08.132400Z",
     "start_time": "2023-05-31T06:09:08.091955Z"
    }
   },
   "outputs": [],
   "source": [
    "result_arr = np.zeros((278, 400))\n",
    "x = 0\n",
    "for i in range(278):\n",
    "    for j in range(400):\n",
    "        result_arr[i, j] = y_pred[x]  # 결과 배열에 값 추가\n",
    "        x += 1\n",
    "        \n",
    "# result_arr2 = np.zeros((278, 400))\n",
    "# x = 0\n",
    "# for i in range(278):\n",
    "#     for j in range(400):\n",
    "#         result_arr2[i, j] = y_pred2[x]  # 결과 배열에 값 추가\n",
    "#         x += 1"
   ]
  },
  {
   "cell_type": "code",
   "execution_count": 8,
   "id": "2f9a4e4f",
   "metadata": {
    "ExecuteTime": {
     "end_time": "2023-05-31T06:09:09.246305Z",
     "start_time": "2023-05-31T06:09:09.104432Z"
    }
   },
   "outputs": [
    {
     "data": {
      "image/png": "[encoded data removed]",
      "text/plain": [
       "<Figure size 1000x700 with 2 Axes>"
      ]
     },
     "metadata": {},
     "output_type": "display_data"
    }
   ],
   "source": [
    "import matplotlib.pyplot as plt\n",
    "cmaps = plt.cm.colors.ListedColormap(['blue', 'yellow','orange', 'red'])  # 파란색, 노란색, 빨간색 순서로 리스트 생성\n",
    "bounds = [0, 0.5, 0.7, 0.95, 1]  # 범위 설정\n",
    "norm = plt.cm.colors.BoundaryNorm(bounds, cmaps.N)  # 범위와 컬러맵의 개수를 사용하여 정규화 객체 생성\n",
    "import matplotlib.pyplot as plt\n",
    "fig=plt.figure(figsize=(10,7))\n",
    "plt.title(f\"{inputdate}\", fontsize=20)\n",
    "plt.imshow(result_arr, cmap=cmaps, norm=norm)\n",
    "plt.colorbar()\n",
    "plt.show()\n",
    "#fig.savefig(f\"image/상관계수히트맵\", transparent = True,dpi=300, bbox_inches='tight');"
   ]
  },
  {
   "cell_type": "code",
   "execution_count": null,
   "id": "dc294ae1",
   "metadata": {
    "ExecuteTime": {
     "end_time": "2023-05-31T06:09:10.238350Z",
     "start_time": "2023-05-31T06:09:10.095317Z"
    }
   },
   "outputs": [],
   "source": [
    "import matplotlib.pyplot as plt\n",
    "\n",
    "\n",
    "fig=plt.figure(figsize=(10,7))\n",
    "plt.title(f\"{inputdate}\", fontsize=20)\n",
    "plt.imshow(result_arr, cmap='hot_r', vmin=0,vmax=1)\n",
    "plt.colorbar()\n",
    "plt.show()\n",
    "#fig.savefig(f\"image/상관계수히트맵\", transparent = True,dpi=300, bbox_inches='tight');"
   ]
  },
  {
   "cell_type": "code",
   "execution_count": null,
   "id": "22579c9b",
   "metadata": {
    "ExecuteTime": {
     "end_time": "2023-05-31T06:09:10.794281Z",
     "start_time": "2023-05-31T06:09:10.769444Z"
    }
   },
   "outputs": [],
   "source": [
    "np.save(f'database/{inputdate}/{inputdate}cnn4_only_climate_result.npy', result_arr)"
   ]
  },
  {
   "attachments": {},
   "cell_type": "markdown",
   "id": "07c1b7fa",
   "metadata": {},
   "source": [
    "# 밑으로는 돌리지말자\""
   ]
  },
  {
   "cell_type": "code",
   "execution_count": null,
   "id": "34156f46",
   "metadata": {},
   "outputs": [],
   "source": [
    "break"
   ]
  },
  {
   "cell_type": "code",
   "execution_count": null,
   "id": "c87edd7e",
   "metadata": {},
   "outputs": [],
   "source": []
  },
  {
   "cell_type": "code",
   "execution_count": null,
   "id": "fd09d3d6",
   "metadata": {},
   "outputs": [],
   "source": []
  },
  {
   "cell_type": "code",
   "execution_count": null,
   "id": "100d5133",
   "metadata": {},
   "outputs": [],
   "source": []
  },
  {
   "cell_type": "code",
   "execution_count": null,
   "id": "d7f7a71a",
   "metadata": {
    "ExecuteTime": {
     "end_time": "2023-05-27T06:32:37.422793Z",
     "start_time": "2023-05-27T06:32:37.398946Z"
    }
   },
   "outputs": [],
   "source": [
    "prev_cnn24=np.load(f'database/{inputdate}/{inputdate}_prev_cnn24.npy')\n",
    "new_cnn24=np.load(f'database/{inputdate}/{inputdate}_new_cnn24.npy')"
   ]
  },
  {
   "cell_type": "code",
   "execution_count": null,
   "id": "1542fd98",
   "metadata": {
    "ExecuteTime": {
     "end_time": "2023-05-27T06:33:13.375315Z",
     "start_time": "2023-05-27T06:33:13.228017Z"
    },
    "collapsed": true
   },
   "outputs": [],
   "source": [
    "import matplotlib.pyplot as plt\n",
    "fig=plt.figure(figsize=(10,7))\n",
    "plt.title(f\"prev_{inputdate}\", fontsize=20)\n",
    "plt.imshow(prev_cnn24, cmap=cmaps, norm=norm)\n",
    "plt.colorbar()\n",
    "plt.show()\n",
    "#fig.savefig(f\"image/상관계수히트맵\", transparent = True,dpi=300, bbox_inches='tight');"
   ]
  },
  {
   "cell_type": "code",
   "execution_count": null,
   "id": "10f95c29",
   "metadata": {
    "ExecuteTime": {
     "end_time": "2023-05-27T06:36:44.183348Z",
     "start_time": "2023-05-27T06:36:44.048504Z"
    }
   },
   "outputs": [],
   "source": [
    "import matplotlib.pyplot as plt\n",
    "fig=plt.figure(figsize=(10,7))\n",
    "plt.title(f\"new{inputdate}\", fontsize=20)\n",
    "plt.imshow(new_cnn24, cmap=cmaps, norm=norm)\n",
    "plt.colorbar()\n",
    "plt.show()\n",
    "#fig.savefig(f\"image/상관계수히트맵\", transparent = True,dpi=300, bbox_inches='tight');"
   ]
  },
  {
   "cell_type": "code",
   "execution_count": null,
   "id": "978c2dcd",
   "metadata": {
    "ExecuteTime": {
     "end_time": "2023-05-26T04:43:50.114268Z",
     "start_time": "2023-05-26T04:43:50.073929Z"
    }
   },
   "outputs": [],
   "source": [
    "import os\n",
    "np.save(f'database/{inputdate}/{inputdate}_result.npy', result_arr)\n",
    "os.remove(f'database/{inputdate}/{inputdate}.npy')"
   ]
  },
  {
   "cell_type": "code",
   "execution_count": null,
   "id": "c5a3d17d",
   "metadata": {
    "ExecuteTime": {
     "end_time": "2023-05-26T04:23:35.563604Z",
     "start_time": "2023-05-26T04:23:35.541578Z"
    }
   },
   "outputs": [],
   "source": [
    "InputArr=result_arr\n",
    "OutputImage=f'database/{inputdate}/{inputdate}_.tif'\n",
    "RefImage='boundary/boundary_blank_resized.tif'\n",
    "array_to_image(InputArr, OutputImage, RefImage)"
   ]
  },
  {
   "cell_type": "code",
   "execution_count": null,
   "id": "8fc1e968",
   "metadata": {
    "ExecuteTime": {
     "end_time": "2023-05-26T05:41:30.513981Z",
     "start_time": "2023-05-26T05:41:30.393294Z"
    }
   },
   "outputs": [],
   "source": [
    "InputArr=test\n",
    "OutputImage=f'database/202203041200/202203041200_.tif'\n",
    "RefImage='boundary/boundary_blank_resized.tif'\n",
    "array_to_image(InputArr, OutputImage, RefImage)"
   ]
  },
  {
   "cell_type": "code",
   "execution_count": null,
   "id": "1815368a",
   "metadata": {
    "ExecuteTime": {
     "end_time": "2023-05-26T05:45:37.062901Z",
     "start_time": "2023-05-26T05:45:36.884530Z"
    }
   },
   "outputs": [],
   "source": [
    "import matplotlib.pyplot as plt\n",
    "fig=plt.figure(figsize=(10,7))\n",
    "#plt.title(f\"{inputdate}\", fontsize=20)\n",
    "plt.imshow(test, cmap='hot',vmax=1,vmin=0)\n",
    "plt.colorbar()\n",
    "plt.show()\n",
    "#fig.savefig(f\"image/상관계수히트맵\", transparent = True,dpi=300, bbox_inches='tight');"
   ]
  },
  {
   "cell_type": "code",
   "execution_count": null,
   "id": "3c6ddfbd",
   "metadata": {},
   "outputs": [],
   "source": []
  }
 ],
 "metadata": {
  "kernelspec": {
   "display_name": "base",
   "language": "python",
   "name": "python3"
  },
  "language_info": {
   "codemirror_mode": {
    "name": "ipython",
    "version": 3
   },
   "file_extension": ".py",
   "mimetype": "text/x-python",
   "name": "python",
   "nbconvert_exporter": "python",
   "pygments_lexer": "ipython3",
   "version": "3.9.10"
  },
  "toc": {
   "base_numbering": 1,
   "nav_menu": {},
   "number_sections": true,
   "sideBar": true,
   "skip_h1_title": false,
   "title_cell": "Table of Contents",
   "title_sidebar": "Contents",
   "toc_cell": false,
   "toc_position": {
    "height": "calc(100% - 180px)",
    "left": "10px",
    "top": "150px",
    "width": "384px"
   },
   "toc_section_display": true,
   "toc_window_display": true
  },
  "varInspector": {
   "cols": {
    "lenName": 16,
    "lenType": 16,
    "lenVar": 40
   },
   "kernels_config": {
    "python": {
     "delete_cmd_postfix": "",
     "delete_cmd_prefix": "del ",
     "library": "var_list.py",
     "varRefreshCmd": "print(var_dic_list())"
    },
    "r": {
     "delete_cmd_postfix": ") ",
     "delete_cmd_prefix": "rm(",
     "library": "var_list.r",
     "varRefreshCmd": "cat(var_dic_list()) "
    }
   },
   "position": {
    "height": "299.844px",
    "left": "1418px",
    "right": "20px",
    "top": "142px",
    "width": "350px"
   },
   "types_to_exclude": [
    "module",
    "function",
    "builtin_function_or_method",
    "instance",
    "_Feature"
   ],
   "window_display": false
  }
 },
 "nbformat": 4,
 "nbformat_minor": 5
}
